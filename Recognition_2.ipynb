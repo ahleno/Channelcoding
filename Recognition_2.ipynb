{
 "cells": [
  {
   "cell_type": "markdown",
   "metadata": {},
   "source": [
    "# Implements"
   ]
  },
  {
   "cell_type": "code",
   "execution_count": 2,
   "metadata": {},
   "outputs": [],
   "source": [
    "import os\n",
    "from pathlib import Path\n",
    "import numpy as np\n",
    "# from keras import backend as K\n",
    "import tensorflow as tf\n",
    "from tensorflow import keras\n",
    "\n",
    "import matplotlib.pyplot as plt\n",
    "\n",
    "from keras.layers import Input, Conv2D, MaxPool2D, Flatten, Dense, Dropout\n",
    "from keras.models import Model\n",
    "from keras.callbacks import ModelCheckpoint, EarlyStopping"
   ]
  },
  {
   "cell_type": "code",
   "execution_count": 26,
   "metadata": {},
   "outputs": [
    {
     "name": "stdout",
     "output_type": "stream",
     "text": [
      "Device found : []\n"
     ]
    }
   ],
   "source": [
    "physical_device = tf.config.experimental.list_physical_devices('GPU')\n",
    "print(f'Device found : {physical_device}')\n",
    "\n",
    "CH_CODE = [\"CONV_2_1_3\", \"CONV_2_1_4\", \"CONV_2_1_5\"]\n",
    "classes = CH_CODE\n",
    "snrs = list(range(-5, 21, 1))"
   ]
  },
  {
   "cell_type": "markdown",
   "metadata": {},
   "source": [
    "# Define Funtions"
   ]
  },
  {
   "cell_type": "code",
   "execution_count": 4,
   "metadata": {},
   "outputs": [],
   "source": [
    "def train(model):\n",
    "    resume = True\n",
    "    filepath = \"best_model.keras\"  # 저장할 모델 파일명\n",
    "    checkpoint = ModelCheckpoint(filepath, monitor='val_accuracy', verbose=1,\n",
    "                                 save_best_only=True, mode='max')\n",
    "    earlystopping = EarlyStopping(monitor='val_accuracy', patience=20, verbose=2)\n",
    "    callbacks_list = [checkpoint, earlystopping]\n",
    "    history = model.fit(x_train, y_train, epochs=200, batch_size=256, verbose=1, # batch_size=1024 -> 256\n",
    "                            # validation_data=(x_test, y_test),\n",
    "                            validation_data=(x_val, y_val),\n",
    "                            callbacks=callbacks_list)\n",
    "    score = model.evaluate(x_test, y_test, verbose=1)\n",
    "    print('Baseline Error: %.2f%%' % (100 - score[1] * 100))\n",
    "    \n",
    "    return history"
   ]
  },
  {
   "cell_type": "code",
   "execution_count": 6,
   "metadata": {},
   "outputs": [],
   "source": [
    "def test(model):\n",
    "    acc = {}\n",
    "    for snr in snrs:\n",
    "        test_SNRs = list(map(lambda x: lbl[x][1], test_idx))\n",
    "        test_X_i = x_test[np.where(np.array(test_SNRs) == str(snr))]\n",
    "        test_Y_i = y_test[np.where(np.array(test_SNRs) == str(snr))]\n",
    "        \n",
    "        print(test_X_i)\n",
    "        print(test_X_i.shape)\n",
    "                \n",
    "        print(f\"\\nTesting at SNR {snr} dB:\")\n",
    "        test_Y_i_hat = model.predict(test_X_i)\n",
    "        \n",
    "        conf = np.zeros([len(classes), len(classes)])\n",
    "        for i in range(test_X_i.shape[0]):\n",
    "            j = list(test_Y_i[i, :]).index(1)\n",
    "            k = int(np.argmax(test_Y_i_hat[i, :]))\n",
    "            conf[j, k] += 1\n",
    "        \n",
    "        confnorm = conf / np.sum(conf, axis=1, keepdims=True)\n",
    "        \n",
    "        cor = np.sum(np.diag(conf))\n",
    "        ncor = np.sum(conf) - cor\n",
    "        accuracy = cor / (cor + ncor)\n",
    "        print(f\"Overall Accuracy: {accuracy}\")\n",
    "        \n",
    "        acc[snr] = accuracy\n",
    "    \n",
    "    # Plot accuracy by SNR\n",
    "    plt.figure()\n",
    "    plt.plot(snrs, [acc[snr] for snr in snrs], marker='o')\n",
    "    plt.xlabel('SNR (dB)')\n",
    "    plt.ylabel('Accuracy')\n",
    "    plt.title('Classification Accuracy by SNR')\n",
    "    plt.grid(True)\n",
    "    plt.show()"
   ]
  },
  {
   "cell_type": "code",
   "execution_count": 7,
   "metadata": {},
   "outputs": [],
   "source": [
    "def calc_confusion_matrix(model, x_test):\n",
    "    y_predict = model.predict(x_test)\n",
    "\n",
    "    # Calculate confusion matrix\n",
    "    conf = np.zeros([len(classes),len(classes)])\n",
    "    confnorm = np.zeros([len(classes),len(classes)])\n",
    "    for i in range(0,x_test.shape[0]):\n",
    "        j = list(y_test[i,:]).index(1)\n",
    "        k = int(np.argmax(y_predict[i,:]))\n",
    "        conf[j,k] = conf[j,k] + 1\n",
    "    for i in range(0,len(classes)):\n",
    "        confnorm[i,:] = conf[i,:] / np.sum(conf[i,:])\n",
    "    \n",
    "    return confnorm"
   ]
  },
  {
   "cell_type": "code",
   "execution_count": 80,
   "metadata": {},
   "outputs": [],
   "source": [
    "def plot_confusion_matrix(cm, results_dir, labels=[], title='Confusion matrix', cmap=plt.cm.Blues):\n",
    "    plt.imshow(cm, interpolation='nearest', cmap=cmap)\n",
    "    plt.title(title)\n",
    "    plt.colorbar()\n",
    "    tick_marks = np.arange(len(labels))\n",
    "    plt.xticks(tick_marks, labels, rotation=45)\n",
    "    plt.yticks(tick_marks, labels)\n",
    "\n",
    "    for i in range(len(labels)):\n",
    "        for j in range(len(labels)):\n",
    "            plt.text(j, i, format(cm[i, j], '.2f'), horizontalalignment=\"center\", color=\"white\" if cm[i, j] > cm.max() / 2 else \"black\")\n",
    "\n",
    "    plt.tight_layout()\n",
    "    plt.ylabel('True label')\n",
    "    plt.xlabel('Predicted label')\n",
    "\n",
    "    result_image_path = os.path.join(results_dir, 'conf_mat.png')\n",
    "    plt.savefig(result_image_path)"
   ]
  },
  {
   "cell_type": "code",
   "execution_count": 88,
   "metadata": {},
   "outputs": [],
   "source": [
    "def SNR_accuracy(in_snr, model, name, x_test, y_test, results_dir):\n",
    "    acc = []\n",
    "    for snr in in_snr:\n",
    "        idx_acc_snr = [i for i in range(len(test_idx)) if lbl[test_idx[i]][1] == snr]\n",
    "        acc_X_test = x_test[idx_acc_snr]\n",
    "        acc_Y_test = y_test[idx_acc_snr]\n",
    "        \n",
    "        print('\\nSNR ' + str(snr) + 'dB:')\n",
    "        accuracy_snr = model.evaluate(acc_X_test, acc_Y_test, batch_size=32, verbose=2)\n",
    "        acc.append(accuracy_snr)\n",
    "    acc = np.vstack(acc)\n",
    "    \n",
    "    fig = plt.figure()\n",
    "    ax = fig.add_subplot(1, 1, 1)\n",
    "    ax.plot(in_snr, (acc[:,1]*100), 'steelblue', marker='.', markersize=15, label=name, linestyle='-')\n",
    "    ax.legend(loc=4, prop={'size': 25})\n",
    "    \n",
    "    ax.set_xticks(np.arange(-5, 21, 1))\n",
    "    ax.set_yticks(np.arange(0, 101, 10))\n",
    "    \n",
    "    ax.grid(which='both', color='lightgray', linestyle='-')\n",
    "    ax.grid(which='minor', alpha=0.2)\n",
    "    ax.grid(which='major', alpha=0.5)\n",
    "    \n",
    "    ax.set_xlim(-5, 21)\n",
    "    ax.set_ylim(0, 100)\n",
    "    \n",
    "    ax.set_title(\"Classification Accuracy\", fontsize=20)\n",
    "    ax.set_ylabel('Accuracy (%)', fontsize=20)\n",
    "    ax.set_xlabel('SNR (dB)', fontsize=20)\n",
    "    \n",
    "    result_image_path = os.path.join(results_dir, 'snr_acc.png')\n",
    "    plt.savefig(result_image_path)\n",
    "    \n",
    "    plt.show()\n",
    "\n",
    "    return acc[:,1]"
   ]
  },
  {
   "cell_type": "markdown",
   "metadata": {},
   "source": [
    "## KAN"
   ]
  },
  {
   "cell_type": "code",
   "execution_count": 91,
   "metadata": {},
   "outputs": [],
   "source": [
    "import tensorflow as tf\n",
    "import numpy as np\n",
    "\n",
    "class KANLinear(tf.keras.layers.Layer):\n",
    "    def __init__(\n",
    "        self,\n",
    "        out_features,\n",
    "        grid_size=5,\n",
    "        spline_order=3,\n",
    "        scale_noise=0.1,\n",
    "        scale_base=1.0,\n",
    "        scale_spline=1.0,\n",
    "        enable_standalone_scale_spline=True,\n",
    "        base_activation=tf.nn.silu,\n",
    "        grid_eps=0.02,\n",
    "        grid_range=(-1, 1),\n",
    "        **kwargs\n",
    "    ):\n",
    "        super(KANLinear, self).__init__(**kwargs)\n",
    "        self.out_features = out_features\n",
    "        self.grid_size = grid_size\n",
    "        self.spline_order = spline_order\n",
    "\n",
    "        h = (grid_range[1] - grid_range[0]) / grid_size\n",
    "        grid = tf.expand_dims(tf.range(-spline_order, grid_size + spline_order + 1, dtype=tf.float32) * h + grid_range[0], axis=0)\n",
    "        self.grid = self.add_weight(\"grid\", shape=grid.shape, initializer=tf.constant_initializer(grid.numpy()), trainable=False)\n",
    "\n",
    "        self.base_weight = self.add_weight(\"base_weight\", shape=(self.out_features, self.in_features), initializer='glorot_uniform', trainable=True)\n",
    "        self.spline_weight = self.add_weight(\"spline_weight\", shape=(self.out_features, self.in_features, self.grid_size + self.spline_order), initializer='glorot_uniform', trainable=True)\n",
    "        \n",
    "        if enable_standalone_scale_spline:\n",
    "            self.spline_scaler = self.add_weight(\"spline_scaler\", shape=(out_features, None), initializer='random_normal', trainable=True)\n",
    "\n",
    "        self.scale_noise = scale_noise\n",
    "        self.scale_base = scale_base\n",
    "        self.scale_spline = scale_spline\n",
    "        self.enable_standalone_scale_spline = enable_standalone_scale_spline\n",
    "        self.base_activation = base_activation\n",
    "        self.grid_eps = grid_eps\n",
    "\n",
    "    def build(self, input_shape):\n",
    "        pass\n",
    "\n",
    "    def call(self, x):\n",
    "        batch_size = tf.shape(x)[0]\n",
    "        original_shape = tf.shape(x)\n",
    "\n",
    "        x = tf.reshape(x, (-1, original_shape[-1]))\n",
    "\n",
    "        base_output = tf.matmul(self.base_activation(x), self.base_weight)\n",
    "        spline_output = tf.matmul(self.b_splines(x), self.spline_weight)\n",
    "\n",
    "        if self.enable_standalone_scale_spline:\n",
    "            spline_output *= tf.expand_dims(self.spline_scaler, axis=-1)\n",
    "\n",
    "        output = base_output + spline_output\n",
    "        output = tf.reshape(output, (*original_shape[:-1], self.out_features))\n",
    "        \n",
    "        return output\n",
    "\n",
    "    def b_splines(self, x):\n",
    "        grid = tf.repeat(self.grid, tf.shape(x)[0], axis=0)\n",
    "        x = tf.expand_dims(x, axis=-1)\n",
    "        bases = tf.cast((x >= grid[:, :-1]) & (x < grid[:, 1:]), dtype=tf.float32)\n",
    "\n",
    "        for k in range(1, self.spline_order + 1):\n",
    "            denominator = (grid[:, k:-1] - grid[:, :-k-1])\n",
    "            bases = (x - grid[:, :-k-1]) / denominator * bases[:, :, :-1] + (grid[:, k:-1] - x) / denominator * bases[:, :, 1:]\n",
    "\n",
    "        return bases\n",
    "\n",
    "    @tf.function\n",
    "    def update_grid(self, x, margin=0.01):\n",
    "        splines = self.b_splines(x)\n",
    "\n",
    "        sorted_indices = tf.argsort(x, axis=0)\n",
    "        grid_adaptive = tf.gather(x, tf.linspace(0.0, tf.cast(tf.shape(x)[0], tf.float32) - 1, self.grid_size + 1, tf.int32))\n",
    "\n",
    "        uniform_step = (tf.reduce_max(x) - tf.reduce_min(x) + 2 * margin) / tf.cast(self.grid_size, tf.float32)\n",
    "        grid_uniform = tf.linspace(-margin, tf.reduce_max(x) + margin, self.grid_size + 1)\n",
    "\n",
    "        grid = self.grid_eps * grid_uniform + (1 - self.grid_eps) * grid_adaptive\n",
    "        grid = tf.concat([\n",
    "            grid[:1] - tf.cast(tf.range(self.spline_order, 0, -1), dtype=tf.float32) * uniform_step,\n",
    "            grid,\n",
    "            grid[-1:] + tf.cast(tf.range(1, self.spline_order + 1), dtype=tf.float32) * uniform_step\n",
    "        ], axis=0)\n",
    "\n",
    "        self.grid.assign(grid)\n",
    "\n",
    "        return grid\n",
    "\n",
    "    def regularization_loss(self, regularize_activation=1.0, regularize_entropy=1.0):\n",
    "        l1_fake = tf.reduce_mean(tf.abs(self.spline_weight), axis=-1)\n",
    "        regularization_loss_activation = tf.reduce_sum(l1_fake)\n",
    "        p = l1_fake / regularization_loss_activation\n",
    "        regularization_loss_entropy = -tf.reduce_sum(p * tf.math.log(p))\n",
    "\n",
    "        return regularize_activation * regularization_loss_activation + regularize_entropy * regularization_loss_entropy\n",
    "\n",
    "\n",
    "class KAN(tf.keras.Model):\n",
    "    def __init__(\n",
    "        self,\n",
    "        layers_hidden,\n",
    "        grid_size=5,\n",
    "        spline_order=3,\n",
    "        scale_noise=0.1,\n",
    "        scale_base=1.0,\n",
    "        scale_spline=1.0,\n",
    "        base_activation=tf.nn.silu,\n",
    "        grid_eps=0.02,\n",
    "        grid_range=(-1, 1),\n",
    "        **kwargs\n",
    "    ):\n",
    "        super(KAN, self).__init__(**kwargs)\n",
    "        self.layers = [KANLinear(layer_size, grid_size, spline_order, scale_noise, scale_base, scale_spline, base_activation, grid_eps, grid_range) for layer_size in layers_hidden]\n",
    "\n",
    "    def call(self, x, update_grid=False):\n",
    "        for layer in self.layers:\n",
    "            if update_grid:\n",
    "                layer.update_grid(x)\n",
    "            x = layer(x)\n",
    "        return x\n",
    "\n",
    "    def regularization_loss(self, regularize_activation=1.0, regularize_entropy=1.0):\n",
    "        return tf.reduce_sum([layer.regularization_loss(regularize_activation, regularize_entropy) for layer in self.layers])\n"
   ]
  },
  {
   "cell_type": "markdown",
   "metadata": {},
   "source": [
    "## Load Dataset"
   ]
  },
  {
   "cell_type": "code",
   "execution_count": 62,
   "metadata": {},
   "outputs": [],
   "source": [
    "current_dir = Path('Recognition.ipynb').parent\n",
    "\n",
    "DATASET_DIR = 'DATASET_32'\n",
    "\n",
    "base_dir = current_dir / DATASET_DIR\n",
    "\n",
    "x_train = np.load(base_dir / \"x_train.npy\", allow_pickle=True)\n",
    "y_train = np.load(base_dir / \"y_train.npy\", allow_pickle=True)\n",
    "\n",
    "x_test = np.load(base_dir / \"x_test.npy\", allow_pickle=True)\n",
    "y_test = np.load(base_dir / \"y_test.npy\", allow_pickle=True)\n",
    "\n",
    "x_val = np.load(base_dir / \"x_val.npy\", allow_pickle=True)\n",
    "y_val = np.load(base_dir / \"y_val.npy\", allow_pickle=True)\n",
    "\n",
    "lbl = np.load(base_dir / \"lbl.npy\", allow_pickle=True).tolist()\n",
    "train_idx = np.load(base_dir / \"train_idx.npy\", allow_pickle=True).tolist()\n",
    "test_idx = np.load(base_dir / \"test_idx.npy\", allow_pickle=True).tolist()\n",
    "val_idx = np.load(base_dir / \"val_idx.npy\", allow_pickle=True).tolist()\n",
    "\n",
    "filepath = base_dir / \"best_model.keras\""
   ]
  },
  {
   "cell_type": "markdown",
   "metadata": {},
   "source": [
    "### Check Dataset shape"
   ]
  },
  {
   "cell_type": "code",
   "execution_count": 59,
   "metadata": {},
   "outputs": [
    {
     "name": "stdout",
     "output_type": "stream",
     "text": [
      "(62400, 32, 16)\n",
      "[[0. 0. 1. 1. 1. 0. 0. 0. 1. 0. 0. 1. 1. 0. 1. 1.]\n",
      " [0. 0. 1. 1. 1. 0. 0. 0. 1. 0. 1. 0. 0. 0. 1. 1.]\n",
      " [0. 0. 0. 0. 0. 0. 1. 1. 1. 0. 0. 0. 1. 0. 0. 1.]\n",
      " [0. 0. 1. 1. 1. 0. 1. 1. 1. 1. 1. 1. 1. 1. 0. 1.]\n",
      " [1. 1. 1. 0. 0. 0. 1. 0. 0. 1. 1. 0. 0. 0. 1. 1.]\n",
      " [1. 1. 1. 0. 0. 0. 0. 1. 0. 0. 0. 0. 1. 0. 1. 1.]\n",
      " [0. 0. 0. 0. 1. 1. 0. 1. 0. 1. 0. 0. 1. 1. 0. 1.]\n",
      " [1. 1. 0. 1. 1. 0. 1. 0. 0. 0. 1. 0. 0. 0. 1. 0.]\n",
      " [1. 1. 0. 1. 0. 1. 1. 1. 0. 1. 0. 1. 1. 0. 0. 1.]\n",
      " [0. 0. 1. 1. 0. 1. 1. 0. 1. 0. 1. 1. 0. 0. 0. 0.]\n",
      " [0. 0. 0. 0. 0. 0. 0. 0. 0. 0. 0. 0. 1. 1. 0. 1.]\n",
      " [0. 0. 0. 0. 0. 0. 0. 0. 1. 1. 0. 1. 1. 0. 0. 1.]\n",
      " [1. 1. 0. 1. 0. 1. 0. 0. 1. 1. 1. 0. 1. 0. 0. 0.]\n",
      " [1. 1. 0. 1. 1. 0. 1. 0. 0. 0. 1. 0. 1. 1. 1. 1.]\n",
      " [1. 1. 1. 0. 0. 0. 0. 1. 0. 0. 1. 1. 1. 1. 0. 1.]\n",
      " [1. 1. 1. 0. 0. 0. 0. 1. 1. 1. 1. 0. 1. 0. 0. 1.]\n",
      " [1. 1. 0. 1. 0. 1. 1. 1. 0. 1. 1. 0. 1. 1. 0. 0.]\n",
      " [1. 1. 1. 0. 1. 1. 1. 1. 1. 1. 1. 1. 0. 1. 1. 1.]\n",
      " [1. 1. 1. 0. 1. 1. 1. 1. 0. 0. 1. 0. 1. 1. 0. 1.]\n",
      " [1. 1. 0. 1. 0. 1. 0. 0. 0. 0. 1. 1. 0. 0. 1. 0.]\n",
      " [0. 0. 0. 0. 0. 0. 0. 0. 0. 0. 0. 0. 1. 1. 0. 1.]\n",
      " [1. 1. 1. 0. 0. 0. 0. 1. 1. 1. 0. 1. 1. 1. 1. 1.]\n",
      " [0. 0. 1. 1. 0. 1. 1. 0. 1. 0. 0. 0. 1. 0. 1. 1.]\n",
      " [0. 0. 1. 1. 0. 1. 0. 1. 0. 0. 0. 0. 0. 0. 0. 1.]\n",
      " [1. 1. 1. 0. 1. 1. 0. 0. 1. 0. 1. 0. 1. 0. 0. 1.]\n",
      " [1. 1. 1. 0. 1. 1. 0. 0. 1. 0. 1. 0. 0. 1. 0. 0.]\n",
      " [1. 1. 0. 1. 0. 1. 1. 1. 0. 1. 0. 1. 1. 0. 1. 0.]\n",
      " [1. 1. 1. 0. 0. 0. 1. 0. 0. 1. 1. 0. 1. 1. 1. 0.]\n",
      " [0. 0. 0. 0. 1. 1. 0. 1. 0. 1. 0. 0. 0. 0. 1. 1.]\n",
      " [1. 1. 0. 1. 1. 0. 0. 1. 1. 0. 0. 1. 1. 1. 0. 1.]\n",
      " [1. 1. 0. 1. 0. 1. 0. 0. 0. 0. 0. 0. 1. 0. 1. 0.]\n",
      " [1. 1. 1. 0. 1. 1. 1. 1. 1. 1. 1. 1. 0. 1. 1. 1.]]\n"
     ]
    }
   ],
   "source": [
    "print(x_train.shape)\n",
    "\n",
    "print(x_train[0])"
   ]
  },
  {
   "cell_type": "markdown",
   "metadata": {},
   "source": [
    "# Model"
   ]
  },
  {
   "cell_type": "markdown",
   "metadata": {},
   "source": [
    "## CNN"
   ]
  },
  {
   "cell_type": "code",
   "execution_count": 64,
   "metadata": {},
   "outputs": [
    {
     "data": {
      "text/html": [
       "<pre style=\"white-space:pre;overflow-x:auto;line-height:normal;font-family:Menlo,'DejaVu Sans Mono',consolas,'Courier New',monospace\"><span style=\"font-weight: bold\">Model: \"functional_9\"</span>\n",
       "</pre>\n"
      ],
      "text/plain": [
       "\u001b[1mModel: \"functional_9\"\u001b[0m\n"
      ]
     },
     "metadata": {},
     "output_type": "display_data"
    },
    {
     "data": {
      "text/html": [
       "<pre style=\"white-space:pre;overflow-x:auto;line-height:normal;font-family:Menlo,'DejaVu Sans Mono',consolas,'Courier New',monospace\">┏━━━━━━━━━━━━━━━━━━━━━━━━━━━━━━━━━┳━━━━━━━━━━━━━━━━━━━━━━━━┳━━━━━━━━━━━━━━━┓\n",
       "┃<span style=\"font-weight: bold\"> Layer (type)                    </span>┃<span style=\"font-weight: bold\"> Output Shape           </span>┃<span style=\"font-weight: bold\">       Param # </span>┃\n",
       "┡━━━━━━━━━━━━━━━━━━━━━━━━━━━━━━━━━╇━━━━━━━━━━━━━━━━━━━━━━━━╇━━━━━━━━━━━━━━━┩\n",
       "│ input_layer_13 (<span style=\"color: #0087ff; text-decoration-color: #0087ff\">InputLayer</span>)     │ (<span style=\"color: #00d7ff; text-decoration-color: #00d7ff\">None</span>, <span style=\"color: #00af00; text-decoration-color: #00af00\">32</span>, <span style=\"color: #00af00; text-decoration-color: #00af00\">32</span>, <span style=\"color: #00af00; text-decoration-color: #00af00\">1</span>)      │             <span style=\"color: #00af00; text-decoration-color: #00af00\">0</span> │\n",
       "├─────────────────────────────────┼────────────────────────┼───────────────┤\n",
       "│ conv2d_34 (<span style=\"color: #0087ff; text-decoration-color: #0087ff\">Conv2D</span>)              │ (<span style=\"color: #00d7ff; text-decoration-color: #00d7ff\">None</span>, <span style=\"color: #00af00; text-decoration-color: #00af00\">29</span>, <span style=\"color: #00af00; text-decoration-color: #00af00\">29</span>, <span style=\"color: #00af00; text-decoration-color: #00af00\">64</span>)     │         <span style=\"color: #00af00; text-decoration-color: #00af00\">1,088</span> │\n",
       "├─────────────────────────────────┼────────────────────────┼───────────────┤\n",
       "│ dropout_30 (<span style=\"color: #0087ff; text-decoration-color: #0087ff\">Dropout</span>)            │ (<span style=\"color: #00d7ff; text-decoration-color: #00d7ff\">None</span>, <span style=\"color: #00af00; text-decoration-color: #00af00\">29</span>, <span style=\"color: #00af00; text-decoration-color: #00af00\">29</span>, <span style=\"color: #00af00; text-decoration-color: #00af00\">64</span>)     │             <span style=\"color: #00af00; text-decoration-color: #00af00\">0</span> │\n",
       "├─────────────────────────────────┼────────────────────────┼───────────────┤\n",
       "│ conv2d_35 (<span style=\"color: #0087ff; text-decoration-color: #0087ff\">Conv2D</span>)              │ (<span style=\"color: #00d7ff; text-decoration-color: #00d7ff\">None</span>, <span style=\"color: #00af00; text-decoration-color: #00af00\">26</span>, <span style=\"color: #00af00; text-decoration-color: #00af00\">26</span>, <span style=\"color: #00af00; text-decoration-color: #00af00\">32</span>)     │        <span style=\"color: #00af00; text-decoration-color: #00af00\">32,800</span> │\n",
       "├─────────────────────────────────┼────────────────────────┼───────────────┤\n",
       "│ dropout_31 (<span style=\"color: #0087ff; text-decoration-color: #0087ff\">Dropout</span>)            │ (<span style=\"color: #00d7ff; text-decoration-color: #00d7ff\">None</span>, <span style=\"color: #00af00; text-decoration-color: #00af00\">26</span>, <span style=\"color: #00af00; text-decoration-color: #00af00\">26</span>, <span style=\"color: #00af00; text-decoration-color: #00af00\">32</span>)     │             <span style=\"color: #00af00; text-decoration-color: #00af00\">0</span> │\n",
       "├─────────────────────────────────┼────────────────────────┼───────────────┤\n",
       "│ conv2d_36 (<span style=\"color: #0087ff; text-decoration-color: #0087ff\">Conv2D</span>)              │ (<span style=\"color: #00d7ff; text-decoration-color: #00d7ff\">None</span>, <span style=\"color: #00af00; text-decoration-color: #00af00\">23</span>, <span style=\"color: #00af00; text-decoration-color: #00af00\">23</span>, <span style=\"color: #00af00; text-decoration-color: #00af00\">16</span>)     │         <span style=\"color: #00af00; text-decoration-color: #00af00\">8,208</span> │\n",
       "├─────────────────────────────────┼────────────────────────┼───────────────┤\n",
       "│ dropout_32 (<span style=\"color: #0087ff; text-decoration-color: #0087ff\">Dropout</span>)            │ (<span style=\"color: #00d7ff; text-decoration-color: #00d7ff\">None</span>, <span style=\"color: #00af00; text-decoration-color: #00af00\">23</span>, <span style=\"color: #00af00; text-decoration-color: #00af00\">23</span>, <span style=\"color: #00af00; text-decoration-color: #00af00\">16</span>)     │             <span style=\"color: #00af00; text-decoration-color: #00af00\">0</span> │\n",
       "├─────────────────────────────────┼────────────────────────┼───────────────┤\n",
       "│ flatten_9 (<span style=\"color: #0087ff; text-decoration-color: #0087ff\">Flatten</span>)             │ (<span style=\"color: #00d7ff; text-decoration-color: #00d7ff\">None</span>, <span style=\"color: #00af00; text-decoration-color: #00af00\">8464</span>)           │             <span style=\"color: #00af00; text-decoration-color: #00af00\">0</span> │\n",
       "├─────────────────────────────────┼────────────────────────┼───────────────┤\n",
       "│ dense_27 (<span style=\"color: #0087ff; text-decoration-color: #0087ff\">Dense</span>)                │ (<span style=\"color: #00d7ff; text-decoration-color: #00d7ff\">None</span>, <span style=\"color: #00af00; text-decoration-color: #00af00\">120</span>)            │     <span style=\"color: #00af00; text-decoration-color: #00af00\">1,015,800</span> │\n",
       "├─────────────────────────────────┼────────────────────────┼───────────────┤\n",
       "│ dense_28 (<span style=\"color: #0087ff; text-decoration-color: #0087ff\">Dense</span>)                │ (<span style=\"color: #00d7ff; text-decoration-color: #00d7ff\">None</span>, <span style=\"color: #00af00; text-decoration-color: #00af00\">60</span>)             │         <span style=\"color: #00af00; text-decoration-color: #00af00\">7,260</span> │\n",
       "├─────────────────────────────────┼────────────────────────┼───────────────┤\n",
       "│ dense_29 (<span style=\"color: #0087ff; text-decoration-color: #0087ff\">Dense</span>)                │ (<span style=\"color: #00d7ff; text-decoration-color: #00d7ff\">None</span>, <span style=\"color: #00af00; text-decoration-color: #00af00\">3</span>)              │           <span style=\"color: #00af00; text-decoration-color: #00af00\">183</span> │\n",
       "└─────────────────────────────────┴────────────────────────┴───────────────┘\n",
       "</pre>\n"
      ],
      "text/plain": [
       "┏━━━━━━━━━━━━━━━━━━━━━━━━━━━━━━━━━┳━━━━━━━━━━━━━━━━━━━━━━━━┳━━━━━━━━━━━━━━━┓\n",
       "┃\u001b[1m \u001b[0m\u001b[1mLayer (type)                   \u001b[0m\u001b[1m \u001b[0m┃\u001b[1m \u001b[0m\u001b[1mOutput Shape          \u001b[0m\u001b[1m \u001b[0m┃\u001b[1m \u001b[0m\u001b[1m      Param #\u001b[0m\u001b[1m \u001b[0m┃\n",
       "┡━━━━━━━━━━━━━━━━━━━━━━━━━━━━━━━━━╇━━━━━━━━━━━━━━━━━━━━━━━━╇━━━━━━━━━━━━━━━┩\n",
       "│ input_layer_13 (\u001b[38;5;33mInputLayer\u001b[0m)     │ (\u001b[38;5;45mNone\u001b[0m, \u001b[38;5;34m32\u001b[0m, \u001b[38;5;34m32\u001b[0m, \u001b[38;5;34m1\u001b[0m)      │             \u001b[38;5;34m0\u001b[0m │\n",
       "├─────────────────────────────────┼────────────────────────┼───────────────┤\n",
       "│ conv2d_34 (\u001b[38;5;33mConv2D\u001b[0m)              │ (\u001b[38;5;45mNone\u001b[0m, \u001b[38;5;34m29\u001b[0m, \u001b[38;5;34m29\u001b[0m, \u001b[38;5;34m64\u001b[0m)     │         \u001b[38;5;34m1,088\u001b[0m │\n",
       "├─────────────────────────────────┼────────────────────────┼───────────────┤\n",
       "│ dropout_30 (\u001b[38;5;33mDropout\u001b[0m)            │ (\u001b[38;5;45mNone\u001b[0m, \u001b[38;5;34m29\u001b[0m, \u001b[38;5;34m29\u001b[0m, \u001b[38;5;34m64\u001b[0m)     │             \u001b[38;5;34m0\u001b[0m │\n",
       "├─────────────────────────────────┼────────────────────────┼───────────────┤\n",
       "│ conv2d_35 (\u001b[38;5;33mConv2D\u001b[0m)              │ (\u001b[38;5;45mNone\u001b[0m, \u001b[38;5;34m26\u001b[0m, \u001b[38;5;34m26\u001b[0m, \u001b[38;5;34m32\u001b[0m)     │        \u001b[38;5;34m32,800\u001b[0m │\n",
       "├─────────────────────────────────┼────────────────────────┼───────────────┤\n",
       "│ dropout_31 (\u001b[38;5;33mDropout\u001b[0m)            │ (\u001b[38;5;45mNone\u001b[0m, \u001b[38;5;34m26\u001b[0m, \u001b[38;5;34m26\u001b[0m, \u001b[38;5;34m32\u001b[0m)     │             \u001b[38;5;34m0\u001b[0m │\n",
       "├─────────────────────────────────┼────────────────────────┼───────────────┤\n",
       "│ conv2d_36 (\u001b[38;5;33mConv2D\u001b[0m)              │ (\u001b[38;5;45mNone\u001b[0m, \u001b[38;5;34m23\u001b[0m, \u001b[38;5;34m23\u001b[0m, \u001b[38;5;34m16\u001b[0m)     │         \u001b[38;5;34m8,208\u001b[0m │\n",
       "├─────────────────────────────────┼────────────────────────┼───────────────┤\n",
       "│ dropout_32 (\u001b[38;5;33mDropout\u001b[0m)            │ (\u001b[38;5;45mNone\u001b[0m, \u001b[38;5;34m23\u001b[0m, \u001b[38;5;34m23\u001b[0m, \u001b[38;5;34m16\u001b[0m)     │             \u001b[38;5;34m0\u001b[0m │\n",
       "├─────────────────────────────────┼────────────────────────┼───────────────┤\n",
       "│ flatten_9 (\u001b[38;5;33mFlatten\u001b[0m)             │ (\u001b[38;5;45mNone\u001b[0m, \u001b[38;5;34m8464\u001b[0m)           │             \u001b[38;5;34m0\u001b[0m │\n",
       "├─────────────────────────────────┼────────────────────────┼───────────────┤\n",
       "│ dense_27 (\u001b[38;5;33mDense\u001b[0m)                │ (\u001b[38;5;45mNone\u001b[0m, \u001b[38;5;34m120\u001b[0m)            │     \u001b[38;5;34m1,015,800\u001b[0m │\n",
       "├─────────────────────────────────┼────────────────────────┼───────────────┤\n",
       "│ dense_28 (\u001b[38;5;33mDense\u001b[0m)                │ (\u001b[38;5;45mNone\u001b[0m, \u001b[38;5;34m60\u001b[0m)             │         \u001b[38;5;34m7,260\u001b[0m │\n",
       "├─────────────────────────────────┼────────────────────────┼───────────────┤\n",
       "│ dense_29 (\u001b[38;5;33mDense\u001b[0m)                │ (\u001b[38;5;45mNone\u001b[0m, \u001b[38;5;34m3\u001b[0m)              │           \u001b[38;5;34m183\u001b[0m │\n",
       "└─────────────────────────────────┴────────────────────────┴───────────────┘\n"
      ]
     },
     "metadata": {},
     "output_type": "display_data"
    },
    {
     "data": {
      "text/html": [
       "<pre style=\"white-space:pre;overflow-x:auto;line-height:normal;font-family:Menlo,'DejaVu Sans Mono',consolas,'Courier New',monospace\"><span style=\"font-weight: bold\"> Total params: </span><span style=\"color: #00af00; text-decoration-color: #00af00\">1,065,339</span> (4.06 MB)\n",
       "</pre>\n"
      ],
      "text/plain": [
       "\u001b[1m Total params: \u001b[0m\u001b[38;5;34m1,065,339\u001b[0m (4.06 MB)\n"
      ]
     },
     "metadata": {},
     "output_type": "display_data"
    },
    {
     "data": {
      "text/html": [
       "<pre style=\"white-space:pre;overflow-x:auto;line-height:normal;font-family:Menlo,'DejaVu Sans Mono',consolas,'Courier New',monospace\"><span style=\"font-weight: bold\"> Trainable params: </span><span style=\"color: #00af00; text-decoration-color: #00af00\">1,065,339</span> (4.06 MB)\n",
       "</pre>\n"
      ],
      "text/plain": [
       "\u001b[1m Trainable params: \u001b[0m\u001b[38;5;34m1,065,339\u001b[0m (4.06 MB)\n"
      ]
     },
     "metadata": {},
     "output_type": "display_data"
    },
    {
     "data": {
      "text/html": [
       "<pre style=\"white-space:pre;overflow-x:auto;line-height:normal;font-family:Menlo,'DejaVu Sans Mono',consolas,'Courier New',monospace\"><span style=\"font-weight: bold\"> Non-trainable params: </span><span style=\"color: #00af00; text-decoration-color: #00af00\">0</span> (0.00 B)\n",
       "</pre>\n"
      ],
      "text/plain": [
       "\u001b[1m Non-trainable params: \u001b[0m\u001b[38;5;34m0\u001b[0m (0.00 B)\n"
      ]
     },
     "metadata": {},
     "output_type": "display_data"
    }
   ],
   "source": [
    "input_size = (32, 32, 1)\n",
    "\n",
    "cnn_in = Input(shape=input_size)\n",
    "\n",
    "cnn = Conv2D(filters=64, kernel_size=(4, 4), activation='relu')(cnn_in) \n",
    "# cnn = MaxPool2D(pool_size=(2, 2))(cnn)\n",
    "cnn = Dropout(rate=0.2)(cnn)\n",
    "\n",
    "cnn = Conv2D(filters=32, kernel_size=(4, 4), activation='relu')(cnn) \n",
    "# cnn = MaxPool2D(pool_size=(2, 2))(cnn)\n",
    "cnn = Dropout(rate=0.2)(cnn)\n",
    "\n",
    "cnn = Conv2D(filters=16, kernel_size=(4, 4), activation='relu')(cnn) \n",
    "# cnn = MaxPool2D(pool_size=(2, 2))(cnn)\n",
    "cnn = Dropout(rate=0.2)(cnn)\n",
    "\n",
    "cnn = Flatten()(cnn)  \n",
    "cnn = Dense(120, activation='relu')(cnn)\n",
    "cnn = Dense(60, activation='relu')(cnn)\n",
    "\n",
    "cnn_out = Dense(len(classes), activation='softmax')(cnn)\n",
    "\n",
    "model_cnn = Model(cnn_in, cnn_out)\n",
    "\n",
    "optimizer = keras.optimizers.Adam(learning_rate=0.001)\n",
    "\n",
    "model_cnn.compile(loss='categorical_crossentropy', optimizer=optimizer, metrics=['accuracy'])\n",
    "\n",
    "model_cnn.summary()"
   ]
  },
  {
   "cell_type": "markdown",
   "metadata": {},
   "source": [
    "## Combined Model"
   ]
  },
  {
   "cell_type": "code",
   "execution_count": 92,
   "metadata": {},
   "outputs": [
    {
     "ename": "TypeError",
     "evalue": "Layer.add_weight() got multiple values for argument 'shape'",
     "output_type": "error",
     "traceback": [
      "\u001b[1;31m---------------------------------------------------------------------------\u001b[0m",
      "\u001b[1;31mTypeError\u001b[0m                                 Traceback (most recent call last)",
      "Cell \u001b[1;32mIn[92], line 21\u001b[0m\n\u001b[0;32m     18\u001b[0m cnn_out \u001b[38;5;241m=\u001b[39m Dense(\u001b[38;5;28mlen\u001b[39m(classes), activation\u001b[38;5;241m=\u001b[39m\u001b[38;5;124m'\u001b[39m\u001b[38;5;124msoftmax\u001b[39m\u001b[38;5;124m'\u001b[39m)(cnn)\n\u001b[0;32m     20\u001b[0m \u001b[38;5;66;03m# Define KAN model\u001b[39;00m\n\u001b[1;32m---> 21\u001b[0m kan_model \u001b[38;5;241m=\u001b[39m KAN(\n\u001b[0;32m     22\u001b[0m     layers_hidden\u001b[38;5;241m=\u001b[39m[input_size[\u001b[38;5;241m-\u001b[39m\u001b[38;5;241m1\u001b[39m], \u001b[38;5;241m120\u001b[39m, \u001b[38;5;241m60\u001b[39m, \u001b[38;5;28mlen\u001b[39m(classes)],\n\u001b[0;32m     23\u001b[0m     grid_size\u001b[38;5;241m=\u001b[39m\u001b[38;5;241m5\u001b[39m,\n\u001b[0;32m     24\u001b[0m     spline_order\u001b[38;5;241m=\u001b[39m\u001b[38;5;241m3\u001b[39m,\n\u001b[0;32m     25\u001b[0m     scale_noise\u001b[38;5;241m=\u001b[39m\u001b[38;5;241m0.1\u001b[39m,\n\u001b[0;32m     26\u001b[0m     scale_base\u001b[38;5;241m=\u001b[39m\u001b[38;5;241m1.0\u001b[39m,\n\u001b[0;32m     27\u001b[0m     scale_spline\u001b[38;5;241m=\u001b[39m\u001b[38;5;241m1.0\u001b[39m,\n\u001b[0;32m     28\u001b[0m     base_activation\u001b[38;5;241m=\u001b[39mtf\u001b[38;5;241m.\u001b[39mnn\u001b[38;5;241m.\u001b[39msilu,\n\u001b[0;32m     29\u001b[0m     grid_eps\u001b[38;5;241m=\u001b[39m\u001b[38;5;241m0.02\u001b[39m,\n\u001b[0;32m     30\u001b[0m     grid_range\u001b[38;5;241m=\u001b[39m(\u001b[38;5;241m-\u001b[39m\u001b[38;5;241m1\u001b[39m, \u001b[38;5;241m1\u001b[39m),\n\u001b[0;32m     31\u001b[0m )\n\u001b[0;32m     33\u001b[0m \u001b[38;5;66;03m# Combine both models\u001b[39;00m\n\u001b[0;32m     34\u001b[0m combined_out \u001b[38;5;241m=\u001b[39m kan_model(cnn_out)\n",
      "Cell \u001b[1;32mIn[91], line 117\u001b[0m, in \u001b[0;36mKAN.__init__\u001b[1;34m(self, layers_hidden, grid_size, spline_order, scale_noise, scale_base, scale_spline, base_activation, grid_eps, grid_range, **kwargs)\u001b[0m\n\u001b[0;32m    103\u001b[0m \u001b[38;5;28;01mdef\u001b[39;00m \u001b[38;5;21m__init__\u001b[39m(\n\u001b[0;32m    104\u001b[0m     \u001b[38;5;28mself\u001b[39m,\n\u001b[0;32m    105\u001b[0m     layers_hidden,\n\u001b[1;32m   (...)\u001b[0m\n\u001b[0;32m    114\u001b[0m     \u001b[38;5;241m*\u001b[39m\u001b[38;5;241m*\u001b[39mkwargs\n\u001b[0;32m    115\u001b[0m ):\n\u001b[0;32m    116\u001b[0m     \u001b[38;5;28msuper\u001b[39m(KAN, \u001b[38;5;28mself\u001b[39m)\u001b[38;5;241m.\u001b[39m\u001b[38;5;21m__init__\u001b[39m(\u001b[38;5;241m*\u001b[39m\u001b[38;5;241m*\u001b[39mkwargs)\n\u001b[1;32m--> 117\u001b[0m     \u001b[38;5;28mself\u001b[39m\u001b[38;5;241m.\u001b[39mlayers \u001b[38;5;241m=\u001b[39m [KANLinear(layer_size, grid_size, spline_order, scale_noise, scale_base, scale_spline, base_activation, grid_eps, grid_range) \u001b[38;5;28;01mfor\u001b[39;00m layer_size \u001b[38;5;129;01min\u001b[39;00m layers_hidden]\n",
      "Cell \u001b[1;32mIn[91], line 26\u001b[0m, in \u001b[0;36mKANLinear.__init__\u001b[1;34m(self, out_features, grid_size, spline_order, scale_noise, scale_base, scale_spline, enable_standalone_scale_spline, base_activation, grid_eps, grid_range, **kwargs)\u001b[0m\n\u001b[0;32m     24\u001b[0m h \u001b[38;5;241m=\u001b[39m (grid_range[\u001b[38;5;241m1\u001b[39m] \u001b[38;5;241m-\u001b[39m grid_range[\u001b[38;5;241m0\u001b[39m]) \u001b[38;5;241m/\u001b[39m grid_size\n\u001b[0;32m     25\u001b[0m grid \u001b[38;5;241m=\u001b[39m tf\u001b[38;5;241m.\u001b[39mexpand_dims(tf\u001b[38;5;241m.\u001b[39mrange(\u001b[38;5;241m-\u001b[39mspline_order, grid_size \u001b[38;5;241m+\u001b[39m spline_order \u001b[38;5;241m+\u001b[39m \u001b[38;5;241m1\u001b[39m, dtype\u001b[38;5;241m=\u001b[39mtf\u001b[38;5;241m.\u001b[39mfloat32) \u001b[38;5;241m*\u001b[39m h \u001b[38;5;241m+\u001b[39m grid_range[\u001b[38;5;241m0\u001b[39m], axis\u001b[38;5;241m=\u001b[39m\u001b[38;5;241m0\u001b[39m)\n\u001b[1;32m---> 26\u001b[0m \u001b[38;5;28mself\u001b[39m\u001b[38;5;241m.\u001b[39mgrid \u001b[38;5;241m=\u001b[39m \u001b[38;5;28mself\u001b[39m\u001b[38;5;241m.\u001b[39madd_weight(\u001b[38;5;124m\"\u001b[39m\u001b[38;5;124mgrid\u001b[39m\u001b[38;5;124m\"\u001b[39m, shape\u001b[38;5;241m=\u001b[39mgrid\u001b[38;5;241m.\u001b[39mshape, initializer\u001b[38;5;241m=\u001b[39mtf\u001b[38;5;241m.\u001b[39mconstant_initializer(grid\u001b[38;5;241m.\u001b[39mnumpy()), trainable\u001b[38;5;241m=\u001b[39m\u001b[38;5;28;01mFalse\u001b[39;00m)\n\u001b[0;32m     28\u001b[0m \u001b[38;5;28mself\u001b[39m\u001b[38;5;241m.\u001b[39mbase_weight \u001b[38;5;241m=\u001b[39m \u001b[38;5;28mself\u001b[39m\u001b[38;5;241m.\u001b[39madd_weight(\u001b[38;5;124m\"\u001b[39m\u001b[38;5;124mbase_weight\u001b[39m\u001b[38;5;124m\"\u001b[39m, shape\u001b[38;5;241m=\u001b[39m(out_features, \u001b[38;5;28;01mNone\u001b[39;00m), initializer\u001b[38;5;241m=\u001b[39m\u001b[38;5;124m'\u001b[39m\u001b[38;5;124mrandom_normal\u001b[39m\u001b[38;5;124m'\u001b[39m, trainable\u001b[38;5;241m=\u001b[39m\u001b[38;5;28;01mTrue\u001b[39;00m)\n\u001b[0;32m     29\u001b[0m \u001b[38;5;28mself\u001b[39m\u001b[38;5;241m.\u001b[39mspline_weight \u001b[38;5;241m=\u001b[39m \u001b[38;5;28mself\u001b[39m\u001b[38;5;241m.\u001b[39madd_weight(\u001b[38;5;124m\"\u001b[39m\u001b[38;5;124mspline_weight\u001b[39m\u001b[38;5;124m\"\u001b[39m, shape\u001b[38;5;241m=\u001b[39m(out_features, \u001b[38;5;28;01mNone\u001b[39;00m, grid_size \u001b[38;5;241m+\u001b[39m spline_order), initializer\u001b[38;5;241m=\u001b[39m\u001b[38;5;124m'\u001b[39m\u001b[38;5;124mrandom_normal\u001b[39m\u001b[38;5;124m'\u001b[39m, trainable\u001b[38;5;241m=\u001b[39m\u001b[38;5;28;01mTrue\u001b[39;00m)\n",
      "\u001b[1;31mTypeError\u001b[0m: Layer.add_weight() got multiple values for argument 'shape'"
     ]
    }
   ],
   "source": [
    "from tensorflow.keras.models import Model\n",
    "from tensorflow.keras.layers import Input, Conv2D, Dropout, Flatten, Dense\n",
    "import tensorflow as tf\n",
    "\n",
    "input_size = (32, 32, 1)\n",
    "\n",
    "# Define CNN model\n",
    "cnn_in = Input(shape=input_size)\n",
    "cnn = Conv2D(filters=64, kernel_size=(4, 4), activation='relu')(cnn_in)\n",
    "cnn = Dropout(rate=0.2)(cnn)\n",
    "cnn = Conv2D(filters=32, kernel_size=(4, 4), activation='relu')(cnn)\n",
    "cnn = Dropout(rate=0.2)(cnn)\n",
    "cnn = Conv2D(filters=16, kernel_size=(4, 4), activation='relu')(cnn)\n",
    "cnn = Dropout(rate=0.2)(cnn)\n",
    "cnn = Flatten()(cnn)\n",
    "cnn = Dense(120, activation='relu')(cnn)\n",
    "cnn = Dense(60, activation='relu')(cnn)\n",
    "cnn_out = Dense(len(classes), activation='softmax')(cnn)\n",
    "\n",
    "# Define KAN model\n",
    "kan_model = KAN(\n",
    "    layers_hidden=[input_size[-1], 120, 60, len(classes)],\n",
    "    grid_size=5,\n",
    "    spline_order=3,\n",
    "    scale_noise=0.1,\n",
    "    scale_base=1.0,\n",
    "    scale_spline=1.0,\n",
    "    base_activation=tf.nn.silu,\n",
    "    grid_eps=0.02,\n",
    "    grid_range=(-1, 1),\n",
    ")\n",
    "\n",
    "# Combine both models\n",
    "combined_out = kan_model(cnn_out)\n",
    "\n",
    "# Create the final combined model\n",
    "model = Model(inputs=cnn_in, outputs=combined_out)\n",
    "\n",
    "# Compile the model and specify optimizer, loss, and metrics as needed\n",
    "model.compile(optimizer='adam', loss='categorical_crossentropy', metrics=['accuracy'])\n",
    "\n",
    "# Print model summary\n",
    "model.summary()\n"
   ]
  },
  {
   "cell_type": "markdown",
   "metadata": {},
   "source": [
    "# Load Dataset"
   ]
  },
  {
   "cell_type": "code",
   "execution_count": null,
   "metadata": {},
   "outputs": [],
   "source": [
    "current_dir = Path('Recognition.ipynb').parent\n",
    "\n",
    "DATASET_DIR = 'DATASET_32'\n",
    "\n",
    "base_dir = current_dir / DATASET_DIR\n",
    "\n",
    "x_train = np.load(base_dir / \"x_train.npy\", allow_pickle=True)\n",
    "y_train = np.load(base_dir / \"y_train.npy\", allow_pickle=True)\n",
    "\n",
    "x_test = np.load(base_dir / \"x_test.npy\", allow_pickle=True)\n",
    "y_test = np.load(base_dir / \"y_test.npy\", allow_pickle=True)\n",
    "\n",
    "x_val = np.load(base_dir / \"x_val.npy\", allow_pickle=True)\n",
    "y_val = np.load(base_dir / \"y_val.npy\", allow_pickle=True)\n",
    "\n",
    "lbl = np.load(base_dir / \"lbl.npy\", allow_pickle=True).tolist()\n",
    "train_idx = np.load(base_dir / \"train_idx.npy\", allow_pickle=True).tolist()\n",
    "test_idx = np.load(base_dir / \"test_idx.npy\", allow_pickle=True).tolist()\n",
    "val_idx = np.load(base_dir / \"val_idx.npy\", allow_pickle=True).tolist()\n",
    "\n",
    "filepath = base_dir / \"best_model.keras\""
   ]
  },
  {
   "cell_type": "markdown",
   "metadata": {},
   "source": [
    "### Check Dataset shape"
   ]
  },
  {
   "cell_type": "code",
   "execution_count": null,
   "metadata": {},
   "outputs": [],
   "source": [
    "print(x_train.shape)\n",
    "\n",
    "print(x_train[0])"
   ]
  },
  {
   "cell_type": "markdown",
   "metadata": {},
   "source": [
    "# Train Model"
   ]
  },
  {
   "cell_type": "code",
   "execution_count": 65,
   "metadata": {},
   "outputs": [
    {
     "name": "stdout",
     "output_type": "stream",
     "text": [
      "Epoch 1/200\n",
      "\u001b[1m244/244\u001b[0m \u001b[32m━━━━━━━━━━━━━━━━━━━━\u001b[0m\u001b[37m\u001b[0m \u001b[1m0s\u001b[0m 120ms/step - accuracy: 0.3302 - loss: 1.0998\n",
      "Epoch 1: val_accuracy improved from -inf to 0.33795, saving model to best_model.keras\n",
      "\u001b[1m244/244\u001b[0m \u001b[32m━━━━━━━━━━━━━━━━━━━━\u001b[0m\u001b[37m\u001b[0m \u001b[1m31s\u001b[0m 124ms/step - accuracy: 0.3302 - loss: 1.0998 - val_accuracy: 0.3379 - val_loss: 1.0985\n",
      "Epoch 2/200\n",
      "\u001b[1m244/244\u001b[0m \u001b[32m━━━━━━━━━━━━━━━━━━━━\u001b[0m\u001b[37m\u001b[0m \u001b[1m0s\u001b[0m 121ms/step - accuracy: 0.3335 - loss: 1.0987\n",
      "Epoch 2: val_accuracy did not improve from 0.33795\n",
      "\u001b[1m244/244\u001b[0m \u001b[32m━━━━━━━━━━━━━━━━━━━━\u001b[0m\u001b[37m\u001b[0m \u001b[1m30s\u001b[0m 124ms/step - accuracy: 0.3335 - loss: 1.0987 - val_accuracy: 0.3251 - val_loss: 1.0988\n",
      "Epoch 3/200\n",
      "\u001b[1m244/244\u001b[0m \u001b[32m━━━━━━━━━━━━━━━━━━━━\u001b[0m\u001b[37m\u001b[0m \u001b[1m0s\u001b[0m 122ms/step - accuracy: 0.3335 - loss: 1.0986\n",
      "Epoch 3: val_accuracy improved from 0.33795 to 0.56718, saving model to best_model.keras\n",
      "\u001b[1m244/244\u001b[0m \u001b[32m━━━━━━━━━━━━━━━━━━━━\u001b[0m\u001b[37m\u001b[0m \u001b[1m31s\u001b[0m 126ms/step - accuracy: 0.3335 - loss: 1.0986 - val_accuracy: 0.5672 - val_loss: 0.8289\n",
      "Epoch 4/200\n",
      "\u001b[1m244/244\u001b[0m \u001b[32m━━━━━━━━━━━━━━━━━━━━\u001b[0m\u001b[37m\u001b[0m \u001b[1m0s\u001b[0m 124ms/step - accuracy: 0.7880 - loss: 0.4428\n",
      "Epoch 4: val_accuracy improved from 0.56718 to 0.91333, saving model to best_model.keras\n",
      "\u001b[1m244/244\u001b[0m \u001b[32m━━━━━━━━━━━━━━━━━━━━\u001b[0m\u001b[37m\u001b[0m \u001b[1m31s\u001b[0m 127ms/step - accuracy: 0.7883 - loss: 0.4423 - val_accuracy: 0.9133 - val_loss: 0.2003\n",
      "Epoch 5/200\n",
      "\u001b[1m244/244\u001b[0m \u001b[32m━━━━━━━━━━━━━━━━━━━━\u001b[0m\u001b[37m\u001b[0m \u001b[1m0s\u001b[0m 125ms/step - accuracy: 0.9145 - loss: 0.1960\n",
      "Epoch 5: val_accuracy improved from 0.91333 to 0.91987, saving model to best_model.keras\n",
      "\u001b[1m244/244\u001b[0m \u001b[32m━━━━━━━━━━━━━━━━━━━━\u001b[0m\u001b[37m\u001b[0m \u001b[1m31s\u001b[0m 128ms/step - accuracy: 0.9146 - loss: 0.1960 - val_accuracy: 0.9199 - val_loss: 0.1864\n",
      "Epoch 6/200\n",
      "\u001b[1m244/244\u001b[0m \u001b[32m━━━━━━━━━━━━━━━━━━━━\u001b[0m\u001b[37m\u001b[0m \u001b[1m0s\u001b[0m 124ms/step - accuracy: 0.9260 - loss: 0.1740\n",
      "Epoch 6: val_accuracy improved from 0.91987 to 0.92410, saving model to best_model.keras\n",
      "\u001b[1m244/244\u001b[0m \u001b[32m━━━━━━━━━━━━━━━━━━━━\u001b[0m\u001b[37m\u001b[0m \u001b[1m32s\u001b[0m 130ms/step - accuracy: 0.9260 - loss: 0.1740 - val_accuracy: 0.9241 - val_loss: 0.1762\n",
      "Epoch 7/200\n",
      "\u001b[1m244/244\u001b[0m \u001b[32m━━━━━━━━━━━━━━━━━━━━\u001b[0m\u001b[37m\u001b[0m \u001b[1m0s\u001b[0m 124ms/step - accuracy: 0.9337 - loss: 0.1578\n",
      "Epoch 7: val_accuracy improved from 0.92410 to 0.92423, saving model to best_model.keras\n",
      "\u001b[1m244/244\u001b[0m \u001b[32m━━━━━━━━━━━━━━━━━━━━\u001b[0m\u001b[37m\u001b[0m \u001b[1m31s\u001b[0m 128ms/step - accuracy: 0.9337 - loss: 0.1578 - val_accuracy: 0.9242 - val_loss: 0.1772\n",
      "Epoch 8/200\n",
      "\u001b[1m244/244\u001b[0m \u001b[32m━━━━━━━━━━━━━━━━━━━━\u001b[0m\u001b[37m\u001b[0m \u001b[1m0s\u001b[0m 125ms/step - accuracy: 0.9381 - loss: 0.1486\n",
      "Epoch 8: val_accuracy improved from 0.92423 to 0.93026, saving model to best_model.keras\n",
      "\u001b[1m244/244\u001b[0m \u001b[32m━━━━━━━━━━━━━━━━━━━━\u001b[0m\u001b[37m\u001b[0m \u001b[1m31s\u001b[0m 128ms/step - accuracy: 0.9381 - loss: 0.1486 - val_accuracy: 0.9303 - val_loss: 0.1650\n",
      "Epoch 9/200\n",
      "\u001b[1m244/244\u001b[0m \u001b[32m━━━━━━━━━━━━━━━━━━━━\u001b[0m\u001b[37m\u001b[0m \u001b[1m0s\u001b[0m 121ms/step - accuracy: 0.9400 - loss: 0.1396\n",
      "Epoch 9: val_accuracy improved from 0.93026 to 0.93077, saving model to best_model.keras\n",
      "\u001b[1m244/244\u001b[0m \u001b[32m━━━━━━━━━━━━━━━━━━━━\u001b[0m\u001b[37m\u001b[0m \u001b[1m30s\u001b[0m 125ms/step - accuracy: 0.9400 - loss: 0.1396 - val_accuracy: 0.9308 - val_loss: 0.1650\n",
      "Epoch 10/200\n",
      "\u001b[1m244/244\u001b[0m \u001b[32m━━━━━━━━━━━━━━━━━━━━\u001b[0m\u001b[37m\u001b[0m \u001b[1m0s\u001b[0m 122ms/step - accuracy: 0.9468 - loss: 0.1274\n",
      "Epoch 10: val_accuracy did not improve from 0.93077\n",
      "\u001b[1m244/244\u001b[0m \u001b[32m━━━━━━━━━━━━━━━━━━━━\u001b[0m\u001b[37m\u001b[0m \u001b[1m30s\u001b[0m 125ms/step - accuracy: 0.9468 - loss: 0.1274 - val_accuracy: 0.9301 - val_loss: 0.1710\n",
      "Epoch 11/200\n",
      "\u001b[1m244/244\u001b[0m \u001b[32m━━━━━━━━━━━━━━━━━━━━\u001b[0m\u001b[37m\u001b[0m \u001b[1m0s\u001b[0m 123ms/step - accuracy: 0.9516 - loss: 0.1165\n",
      "Epoch 11: val_accuracy improved from 0.93077 to 0.93256, saving model to best_model.keras\n",
      "\u001b[1m244/244\u001b[0m \u001b[32m━━━━━━━━━━━━━━━━━━━━\u001b[0m\u001b[37m\u001b[0m \u001b[1m31s\u001b[0m 126ms/step - accuracy: 0.9516 - loss: 0.1165 - val_accuracy: 0.9326 - val_loss: 0.1681\n",
      "Epoch 12/200\n",
      "\u001b[1m244/244\u001b[0m \u001b[32m━━━━━━━━━━━━━━━━━━━━\u001b[0m\u001b[37m\u001b[0m \u001b[1m0s\u001b[0m 119ms/step - accuracy: 0.9544 - loss: 0.1115\n",
      "Epoch 12: val_accuracy did not improve from 0.93256\n",
      "\u001b[1m244/244\u001b[0m \u001b[32m━━━━━━━━━━━━━━━━━━━━\u001b[0m\u001b[37m\u001b[0m \u001b[1m30s\u001b[0m 122ms/step - accuracy: 0.9544 - loss: 0.1115 - val_accuracy: 0.9286 - val_loss: 0.1737\n",
      "Epoch 13/200\n",
      "\u001b[1m244/244\u001b[0m \u001b[32m━━━━━━━━━━━━━━━━━━━━\u001b[0m\u001b[37m\u001b[0m \u001b[1m0s\u001b[0m 129ms/step - accuracy: 0.9570 - loss: 0.1016\n",
      "Epoch 13: val_accuracy did not improve from 0.93256\n",
      "\u001b[1m244/244\u001b[0m \u001b[32m━━━━━━━━━━━━━━━━━━━━\u001b[0m\u001b[37m\u001b[0m \u001b[1m32s\u001b[0m 132ms/step - accuracy: 0.9570 - loss: 0.1017 - val_accuracy: 0.9259 - val_loss: 0.1818\n",
      "Epoch 14/200\n",
      "\u001b[1m244/244\u001b[0m \u001b[32m━━━━━━━━━━━━━━━━━━━━\u001b[0m\u001b[37m\u001b[0m \u001b[1m0s\u001b[0m 122ms/step - accuracy: 0.9618 - loss: 0.0949\n",
      "Epoch 14: val_accuracy did not improve from 0.93256\n",
      "\u001b[1m244/244\u001b[0m \u001b[32m━━━━━━━━━━━━━━━━━━━━\u001b[0m\u001b[37m\u001b[0m \u001b[1m30s\u001b[0m 125ms/step - accuracy: 0.9618 - loss: 0.0949 - val_accuracy: 0.9288 - val_loss: 0.1853\n",
      "Epoch 15/200\n",
      "\u001b[1m244/244\u001b[0m \u001b[32m━━━━━━━━━━━━━━━━━━━━\u001b[0m\u001b[37m\u001b[0m \u001b[1m0s\u001b[0m 122ms/step - accuracy: 0.9661 - loss: 0.0837\n",
      "Epoch 15: val_accuracy did not improve from 0.93256\n",
      "\u001b[1m244/244\u001b[0m \u001b[32m━━━━━━━━━━━━━━━━━━━━\u001b[0m\u001b[37m\u001b[0m \u001b[1m30s\u001b[0m 125ms/step - accuracy: 0.9661 - loss: 0.0837 - val_accuracy: 0.9263 - val_loss: 0.2046\n",
      "Epoch 16/200\n",
      "\u001b[1m244/244\u001b[0m \u001b[32m━━━━━━━━━━━━━━━━━━━━\u001b[0m\u001b[37m\u001b[0m \u001b[1m0s\u001b[0m 122ms/step - accuracy: 0.9689 - loss: 0.0777\n",
      "Epoch 16: val_accuracy did not improve from 0.93256\n",
      "\u001b[1m244/244\u001b[0m \u001b[32m━━━━━━━━━━━━━━━━━━━━\u001b[0m\u001b[37m\u001b[0m \u001b[1m31s\u001b[0m 125ms/step - accuracy: 0.9689 - loss: 0.0778 - val_accuracy: 0.9254 - val_loss: 0.2088\n",
      "Epoch 17/200\n",
      "\u001b[1m244/244\u001b[0m \u001b[32m━━━━━━━━━━━━━━━━━━━━\u001b[0m\u001b[37m\u001b[0m \u001b[1m0s\u001b[0m 125ms/step - accuracy: 0.9747 - loss: 0.0658\n",
      "Epoch 17: val_accuracy did not improve from 0.93256\n",
      "\u001b[1m244/244\u001b[0m \u001b[32m━━━━━━━━━━━━━━━━━━━━\u001b[0m\u001b[37m\u001b[0m \u001b[1m31s\u001b[0m 128ms/step - accuracy: 0.9747 - loss: 0.0658 - val_accuracy: 0.9268 - val_loss: 0.2215\n",
      "Epoch 18/200\n",
      "\u001b[1m244/244\u001b[0m \u001b[32m━━━━━━━━━━━━━━━━━━━━\u001b[0m\u001b[37m\u001b[0m \u001b[1m0s\u001b[0m 125ms/step - accuracy: 0.9766 - loss: 0.0612\n",
      "Epoch 18: val_accuracy did not improve from 0.93256\n",
      "\u001b[1m244/244\u001b[0m \u001b[32m━━━━━━━━━━━━━━━━━━━━\u001b[0m\u001b[37m\u001b[0m \u001b[1m31s\u001b[0m 128ms/step - accuracy: 0.9766 - loss: 0.0612 - val_accuracy: 0.9222 - val_loss: 0.2260\n",
      "Epoch 19/200\n",
      "\u001b[1m244/244\u001b[0m \u001b[32m━━━━━━━━━━━━━━━━━━━━\u001b[0m\u001b[37m\u001b[0m \u001b[1m0s\u001b[0m 124ms/step - accuracy: 0.9792 - loss: 0.0524\n",
      "Epoch 19: val_accuracy did not improve from 0.93256\n",
      "\u001b[1m244/244\u001b[0m \u001b[32m━━━━━━━━━━━━━━━━━━━━\u001b[0m\u001b[37m\u001b[0m \u001b[1m31s\u001b[0m 127ms/step - accuracy: 0.9792 - loss: 0.0524 - val_accuracy: 0.9259 - val_loss: 0.2264\n",
      "Epoch 20/200\n",
      "\u001b[1m244/244\u001b[0m \u001b[32m━━━━━━━━━━━━━━━━━━━━\u001b[0m\u001b[37m\u001b[0m \u001b[1m0s\u001b[0m 124ms/step - accuracy: 0.9810 - loss: 0.0490\n",
      "Epoch 20: val_accuracy did not improve from 0.93256\n",
      "\u001b[1m244/244\u001b[0m \u001b[32m━━━━━━━━━━━━━━━━━━━━\u001b[0m\u001b[37m\u001b[0m \u001b[1m31s\u001b[0m 127ms/step - accuracy: 0.9810 - loss: 0.0490 - val_accuracy: 0.9171 - val_loss: 0.2689\n",
      "Epoch 21/200\n",
      "\u001b[1m244/244\u001b[0m \u001b[32m━━━━━━━━━━━━━━━━━━━━\u001b[0m\u001b[37m\u001b[0m \u001b[1m0s\u001b[0m 124ms/step - accuracy: 0.9837 - loss: 0.0442\n",
      "Epoch 21: val_accuracy did not improve from 0.93256\n",
      "\u001b[1m244/244\u001b[0m \u001b[32m━━━━━━━━━━━━━━━━━━━━\u001b[0m\u001b[37m\u001b[0m \u001b[1m31s\u001b[0m 126ms/step - accuracy: 0.9837 - loss: 0.0442 - val_accuracy: 0.9263 - val_loss: 0.2757\n",
      "Epoch 22/200\n",
      "\u001b[1m244/244\u001b[0m \u001b[32m━━━━━━━━━━━━━━━━━━━━\u001b[0m\u001b[37m\u001b[0m \u001b[1m0s\u001b[0m 124ms/step - accuracy: 0.9855 - loss: 0.0398\n",
      "Epoch 22: val_accuracy did not improve from 0.93256\n",
      "\u001b[1m244/244\u001b[0m \u001b[32m━━━━━━━━━━━━━━━━━━━━\u001b[0m\u001b[37m\u001b[0m \u001b[1m31s\u001b[0m 126ms/step - accuracy: 0.9855 - loss: 0.0398 - val_accuracy: 0.9244 - val_loss: 0.2534\n",
      "Epoch 23/200\n",
      "\u001b[1m244/244\u001b[0m \u001b[32m━━━━━━━━━━━━━━━━━━━━\u001b[0m\u001b[37m\u001b[0m \u001b[1m0s\u001b[0m 124ms/step - accuracy: 0.9850 - loss: 0.0401\n",
      "Epoch 23: val_accuracy did not improve from 0.93256\n",
      "\u001b[1m244/244\u001b[0m \u001b[32m━━━━━━━━━━━━━━━━━━━━\u001b[0m\u001b[37m\u001b[0m \u001b[1m31s\u001b[0m 126ms/step - accuracy: 0.9850 - loss: 0.0401 - val_accuracy: 0.9240 - val_loss: 0.2842\n",
      "Epoch 24/200\n",
      "\u001b[1m244/244\u001b[0m \u001b[32m━━━━━━━━━━━━━━━━━━━━\u001b[0m\u001b[37m\u001b[0m \u001b[1m0s\u001b[0m 124ms/step - accuracy: 0.9890 - loss: 0.0318\n",
      "Epoch 24: val_accuracy did not improve from 0.93256\n",
      "\u001b[1m244/244\u001b[0m \u001b[32m━━━━━━━━━━━━━━━━━━━━\u001b[0m\u001b[37m\u001b[0m \u001b[1m31s\u001b[0m 126ms/step - accuracy: 0.9890 - loss: 0.0318 - val_accuracy: 0.9215 - val_loss: 0.2693\n",
      "Epoch 25/200\n",
      "\u001b[1m244/244\u001b[0m \u001b[32m━━━━━━━━━━━━━━━━━━━━\u001b[0m\u001b[37m\u001b[0m \u001b[1m0s\u001b[0m 123ms/step - accuracy: 0.9891 - loss: 0.0303\n",
      "Epoch 25: val_accuracy did not improve from 0.93256\n",
      "\u001b[1m244/244\u001b[0m \u001b[32m━━━━━━━━━━━━━━━━━━━━\u001b[0m\u001b[37m\u001b[0m \u001b[1m31s\u001b[0m 126ms/step - accuracy: 0.9891 - loss: 0.0303 - val_accuracy: 0.9205 - val_loss: 0.3040\n",
      "Epoch 26/200\n",
      "\u001b[1m244/244\u001b[0m \u001b[32m━━━━━━━━━━━━━━━━━━━━\u001b[0m\u001b[37m\u001b[0m \u001b[1m0s\u001b[0m 123ms/step - accuracy: 0.9896 - loss: 0.0286\n",
      "Epoch 26: val_accuracy did not improve from 0.93256\n",
      "\u001b[1m244/244\u001b[0m \u001b[32m━━━━━━━━━━━━━━━━━━━━\u001b[0m\u001b[37m\u001b[0m \u001b[1m31s\u001b[0m 127ms/step - accuracy: 0.9896 - loss: 0.0286 - val_accuracy: 0.9213 - val_loss: 0.3170\n",
      "Epoch 27/200\n",
      "\u001b[1m244/244\u001b[0m \u001b[32m━━━━━━━━━━━━━━━━━━━━\u001b[0m\u001b[37m\u001b[0m \u001b[1m0s\u001b[0m 125ms/step - accuracy: 0.9901 - loss: 0.0292\n",
      "Epoch 27: val_accuracy did not improve from 0.93256\n",
      "\u001b[1m244/244\u001b[0m \u001b[32m━━━━━━━━━━━━━━━━━━━━\u001b[0m\u001b[37m\u001b[0m \u001b[1m31s\u001b[0m 128ms/step - accuracy: 0.9901 - loss: 0.0292 - val_accuracy: 0.9210 - val_loss: 0.3010\n",
      "Epoch 28/200\n",
      "\u001b[1m244/244\u001b[0m \u001b[32m━━━━━━━━━━━━━━━━━━━━\u001b[0m\u001b[37m\u001b[0m \u001b[1m0s\u001b[0m 124ms/step - accuracy: 0.9897 - loss: 0.0285\n",
      "Epoch 28: val_accuracy did not improve from 0.93256\n",
      "\u001b[1m244/244\u001b[0m \u001b[32m━━━━━━━━━━━━━━━━━━━━\u001b[0m\u001b[37m\u001b[0m \u001b[1m31s\u001b[0m 127ms/step - accuracy: 0.9897 - loss: 0.0285 - val_accuracy: 0.9204 - val_loss: 0.2961\n",
      "Epoch 29/200\n",
      "\u001b[1m244/244\u001b[0m \u001b[32m━━━━━━━━━━━━━━━━━━━━\u001b[0m\u001b[37m\u001b[0m \u001b[1m0s\u001b[0m 123ms/step - accuracy: 0.9915 - loss: 0.0229\n",
      "Epoch 29: val_accuracy did not improve from 0.93256\n",
      "\u001b[1m244/244\u001b[0m \u001b[32m━━━━━━━━━━━━━━━━━━━━\u001b[0m\u001b[37m\u001b[0m \u001b[1m31s\u001b[0m 126ms/step - accuracy: 0.9915 - loss: 0.0229 - val_accuracy: 0.9205 - val_loss: 0.3128\n",
      "Epoch 30/200\n",
      "\u001b[1m244/244\u001b[0m \u001b[32m━━━━━━━━━━━━━━━━━━━━\u001b[0m\u001b[37m\u001b[0m \u001b[1m0s\u001b[0m 125ms/step - accuracy: 0.9916 - loss: 0.0227\n",
      "Epoch 30: val_accuracy did not improve from 0.93256\n",
      "\u001b[1m244/244\u001b[0m \u001b[32m━━━━━━━━━━━━━━━━━━━━\u001b[0m\u001b[37m\u001b[0m \u001b[1m31s\u001b[0m 128ms/step - accuracy: 0.9916 - loss: 0.0227 - val_accuracy: 0.9209 - val_loss: 0.3108\n",
      "Epoch 31/200\n",
      "\u001b[1m244/244\u001b[0m \u001b[32m━━━━━━━━━━━━━━━━━━━━\u001b[0m\u001b[37m\u001b[0m \u001b[1m0s\u001b[0m 125ms/step - accuracy: 0.9919 - loss: 0.0219\n",
      "Epoch 31: val_accuracy did not improve from 0.93256\n",
      "\u001b[1m244/244\u001b[0m \u001b[32m━━━━━━━━━━━━━━━━━━━━\u001b[0m\u001b[37m\u001b[0m \u001b[1m31s\u001b[0m 128ms/step - accuracy: 0.9919 - loss: 0.0219 - val_accuracy: 0.9194 - val_loss: 0.3292\n",
      "Epoch 31: early stopping\n",
      "\u001b[1m244/244\u001b[0m \u001b[32m━━━━━━━━━━━━━━━━━━━━\u001b[0m\u001b[37m\u001b[0m \u001b[1m1s\u001b[0m 4ms/step - accuracy: 0.9210 - loss: 0.3094\n",
      "Baseline Error: 7.92%\n"
     ]
    }
   ],
   "source": [
    "history = train(model_cnn)\n",
    "\n",
    "# history = train(model_VGG19)"
   ]
  },
  {
   "cell_type": "markdown",
   "metadata": {},
   "source": [
    "# Test Model"
   ]
  },
  {
   "cell_type": "code",
   "execution_count": null,
   "metadata": {},
   "outputs": [],
   "source": [
    "test(model_cnn)\n",
    "\n",
    "# test(model_VGG19)"
   ]
  },
  {
   "cell_type": "markdown",
   "metadata": {},
   "source": [
    "# Plot Result"
   ]
  },
  {
   "cell_type": "code",
   "execution_count": 67,
   "metadata": {},
   "outputs": [],
   "source": [
    "import os\n",
    "import datetime\n",
    "import matplotlib.pyplot as plt\n",
    "\n",
    "# 현재 시간을 기준으로 폴더 이름 생성\n",
    "current_time = datetime.datetime.now().strftime(\"%Y-%m-%d_%H-%M-%S\")\n",
    "folder_name = f\"results_{current_time}\"\n",
    "\n",
    "# 결과를 저장할 폴더 경로 설정\n",
    "current_dir = os.getcwd()  # 현재 작업 디렉토리\n",
    "results_dir = os.path.join(current_dir, folder_name)\n",
    "\n",
    "# 폴더 생성\n",
    "os.makedirs(results_dir, exist_ok=True)"
   ]
  },
  {
   "cell_type": "code",
   "execution_count": 84,
   "metadata": {},
   "outputs": [
    {
     "data": {
      "image/png": "[encoded data removed]",
      "text/plain": [
       "<Figure size 640x480 with 1 Axes>"
      ]
     },
     "metadata": {},
     "output_type": "display_data"
    }
   ],
   "source": [
    "# Acc의 추이 확인\n",
    "plt.plot(history.history['accuracy'])\n",
    "plt.plot(history.history['val_accuracy'])\n",
    "\n",
    "plt.title('Model accuracy')\n",
    "plt.xlabel('Epoch')\n",
    "plt.ylabel('Accuracy')\n",
    "plt.legend(['Train', 'Validation'], loc='upper left')\n",
    "\n",
    "result_image_path = os.path.join(results_dir, 'acc_trends.png')\n",
    "plt.savefig(result_image_path)\n",
    "\n",
    "plt.show()"
   ]
  },
  {
   "cell_type": "code",
   "execution_count": 83,
   "metadata": {},
   "outputs": [
    {
     "data": {
      "image/png": "[encoded data removed]",
      "text/plain": [
       "<Figure size 640x480 with 1 Axes>"
      ]
     },
     "metadata": {},
     "output_type": "display_data"
    }
   ],
   "source": [
    "# 학습 손실과 검증 손실의 추이 확인\n",
    "plt.plot(history.history['loss'])\n",
    "plt.plot(history.history['val_loss'])\n",
    "plt.title('Model Loss')\n",
    "plt.xlabel('Epoch')\n",
    "plt.ylabel('Loss')\n",
    "plt.legend(['Train', 'Validation'], loc='upper right')\n",
    "\n",
    "result_image_path = os.path.join(results_dir, 'loss_trends.png')\n",
    "plt.savefig(result_image_path)\n",
    "\n",
    "plt.show()"
   ]
  },
  {
   "cell_type": "code",
   "execution_count": 87,
   "metadata": {},
   "outputs": [
    {
     "name": "stdout",
     "output_type": "stream",
     "text": [
      "\u001b[1m244/244\u001b[0m \u001b[32m━━━━━━━━━━━━━━━━━━━━\u001b[0m\u001b[37m\u001b[0m \u001b[1m1s\u001b[0m 5ms/step\n"
     ]
    },
    {
     "data": {
      "image/png": "[encoded data removed]",
      "text/plain": [
       "<Figure size 640x480 with 2 Axes>"
      ]
     },
     "metadata": {},
     "output_type": "display_data"
    }
   ],
   "source": [
    "confnorm = calc_confusion_matrix(model_cnn, x_test)\n",
    "\n",
    "# Plot confusion matrix\n",
    "plot_confusion_matrix(confnorm, results_dir, labels=classes)"
   ]
  },
  {
   "cell_type": "code",
   "execution_count": 89,
   "metadata": {},
   "outputs": [
    {
     "name": "stdout",
     "output_type": "stream",
     "text": [
      "\n",
      "SNR -5dB:\n",
      "10/10 - 0s - 6ms/step - accuracy: 0.4966 - loss: 2.1429\n",
      "\n",
      "SNR -4dB:\n",
      "11/11 - 0s - 6ms/step - accuracy: 0.5412 - loss: 1.8814\n",
      "\n",
      "SNR -3dB:\n",
      "10/10 - 0s - 6ms/step - accuracy: 0.6459 - loss: 1.3423\n",
      "\n",
      "SNR -2dB:\n",
      "9/9 - 0s - 6ms/step - accuracy: 0.7203 - loss: 1.0634\n",
      "\n",
      "SNR -1dB:\n",
      "10/10 - 0s - 6ms/step - accuracy: 0.7900 - loss: 0.7805\n",
      "\n",
      "SNR 0dB:\n",
      "10/10 - 0s - 6ms/step - accuracy: 0.8850 - loss: 0.3725\n",
      "\n",
      "SNR 1dB:\n",
      "10/10 - 0s - 6ms/step - accuracy: 0.9524 - loss: 0.1764\n",
      "\n",
      "SNR 2dB:\n",
      "10/10 - 0s - 6ms/step - accuracy: 0.9834 - loss: 0.0594\n",
      "\n",
      "SNR 3dB:\n",
      "10/10 - 0s - 6ms/step - accuracy: 0.9898 - loss: 0.0250\n",
      "\n",
      "SNR 4dB:\n",
      "9/9 - 0s - 6ms/step - accuracy: 1.0000 - loss: 2.6387e-06\n",
      "\n",
      "SNR 5dB:\n",
      "9/9 - 0s - 6ms/step - accuracy: 1.0000 - loss: 5.2073e-08\n",
      "\n",
      "SNR 6dB:\n",
      "9/9 - 0s - 6ms/step - accuracy: 1.0000 - loss: 0.0000e+00\n",
      "\n",
      "SNR 7dB:\n",
      "10/10 - 0s - 6ms/step - accuracy: 1.0000 - loss: 0.0000e+00\n",
      "\n",
      "SNR 8dB:\n",
      "10/10 - 0s - 6ms/step - accuracy: 1.0000 - loss: 0.0000e+00\n",
      "\n",
      "SNR 9dB:\n",
      "9/9 - 0s - 7ms/step - accuracy: 1.0000 - loss: 0.0000e+00\n",
      "\n",
      "SNR 10dB:\n",
      "10/10 - 0s - 6ms/step - accuracy: 1.0000 - loss: 0.0000e+00\n",
      "\n",
      "SNR 11dB:\n",
      "9/9 - 0s - 7ms/step - accuracy: 1.0000 - loss: 0.0000e+00\n",
      "\n",
      "SNR 12dB:\n",
      "10/10 - 0s - 6ms/step - accuracy: 1.0000 - loss: 0.0000e+00\n",
      "\n",
      "SNR 13dB:\n",
      "10/10 - 0s - 6ms/step - accuracy: 1.0000 - loss: 0.0000e+00\n",
      "\n",
      "SNR 14dB:\n",
      "9/9 - 0s - 6ms/step - accuracy: 1.0000 - loss: 0.0000e+00\n",
      "\n",
      "SNR 15dB:\n",
      "10/10 - 0s - 5ms/step - accuracy: 1.0000 - loss: 0.0000e+00\n",
      "\n",
      "SNR 16dB:\n",
      "10/10 - 0s - 6ms/step - accuracy: 1.0000 - loss: 0.0000e+00\n",
      "\n",
      "SNR 17dB:\n",
      "10/10 - 0s - 6ms/step - accuracy: 1.0000 - loss: 0.0000e+00\n",
      "\n",
      "SNR 18dB:\n",
      "11/11 - 0s - 6ms/step - accuracy: 1.0000 - loss: 0.0000e+00\n",
      "\n",
      "SNR 19dB:\n",
      "10/10 - 0s - 7ms/step - accuracy: 1.0000 - loss: 0.0000e+00\n",
      "\n",
      "SNR 20dB:\n",
      "10/10 - 0s - 6ms/step - accuracy: 1.0000 - loss: 0.0000e+00\n"
     ]
    },
    {
     "data": {
      "image/png": "[encoded data removed]",
      "text/plain": [
       "<Figure size 640x480 with 1 Axes>"
      ]
     },
     "metadata": {},
     "output_type": "display_data"
    }
   ],
   "source": [
    "# Plot classfication accuracy by each SNR\n",
    "acc = SNR_accuracy(snrs, model_cnn, 'CNN', x_test, y_test, results_dir)"
   ]
  },
  {
   "cell_type": "code",
   "execution_count": 47,
   "metadata": {},
   "outputs": [
    {
     "name": "stdout",
     "output_type": "stream",
     "text": [
      "\n",
      "SNR -5dB:\n",
      "2/2 - 0s - 10ms/step - accuracy: 0.4327 - loss: 1.5348\n",
      "\n",
      "SNR -4dB:\n",
      "2/2 - 0s - 11ms/step - accuracy: 0.5027 - loss: 1.2997\n",
      "\n",
      "SNR -3dB:\n",
      "2/2 - 0s - 11ms/step - accuracy: 0.5633 - loss: 1.1100\n",
      "\n",
      "SNR -2dB:\n",
      "2/2 - 0s - 11ms/step - accuracy: 0.6343 - loss: 1.0408\n",
      "\n",
      "SNR -1dB:\n",
      "2/2 - 0s - 11ms/step - accuracy: 0.6923 - loss: 0.7894\n",
      "\n",
      "SNR 0dB:\n",
      "2/2 - 0s - 11ms/step - accuracy: 0.7468 - loss: 0.6816\n",
      "\n",
      "SNR 1dB:\n",
      "2/2 - 0s - 10ms/step - accuracy: 0.9231 - loss: 0.2656\n",
      "\n",
      "SNR 2dB:\n",
      "2/2 - 0s - 10ms/step - accuracy: 0.9357 - loss: 0.1713\n",
      "\n",
      "SNR 3dB:\n",
      "2/2 - 0s - 10ms/step - accuracy: 0.9799 - loss: 0.0964\n",
      "\n",
      "SNR 4dB:\n",
      "1/1 - 0s - 18ms/step - accuracy: 0.9922 - loss: 0.0210\n",
      "\n",
      "SNR 5dB:\n",
      "2/2 - 0s - 10ms/step - accuracy: 1.0000 - loss: 3.4193e-04\n",
      "\n",
      "SNR 6dB:\n",
      "2/2 - 0s - 11ms/step - accuracy: 1.0000 - loss: 5.9695e-05\n",
      "\n",
      "SNR 7dB:\n",
      "2/2 - 0s - 10ms/step - accuracy: 1.0000 - loss: 5.6769e-06\n",
      "\n",
      "SNR 8dB:\n",
      "2/2 - 0s - 10ms/step - accuracy: 1.0000 - loss: 1.0185e-05\n",
      "\n",
      "SNR 9dB:\n",
      "2/2 - 0s - 10ms/step - accuracy: 1.0000 - loss: 1.1403e-06\n",
      "\n",
      "SNR 10dB:\n",
      "2/2 - 0s - 11ms/step - accuracy: 1.0000 - loss: 7.4393e-06\n",
      "\n",
      "SNR 11dB:\n",
      "2/2 - 0s - 11ms/step - accuracy: 1.0000 - loss: 1.8760e-06\n",
      "\n",
      "SNR 12dB:\n",
      "2/2 - 0s - 11ms/step - accuracy: 1.0000 - loss: 7.7223e-07\n",
      "\n",
      "SNR 13dB:\n",
      "2/2 - 0s - 11ms/step - accuracy: 1.0000 - loss: 7.4931e-07\n",
      "\n",
      "SNR 14dB:\n",
      "2/2 - 0s - 11ms/step - accuracy: 1.0000 - loss: 2.9388e-07\n",
      "\n",
      "SNR 15dB:\n",
      "2/2 - 0s - 10ms/step - accuracy: 1.0000 - loss: 7.6405e-07\n",
      "\n",
      "SNR 16dB:\n",
      "2/2 - 0s - 11ms/step - accuracy: 1.0000 - loss: 3.4534e-06\n",
      "\n",
      "SNR 17dB:\n",
      "2/2 - 0s - 11ms/step - accuracy: 1.0000 - loss: 2.4879e-06\n",
      "\n",
      "SNR 18dB:\n",
      "2/2 - 0s - 10ms/step - accuracy: 1.0000 - loss: 1.7198e-06\n",
      "\n",
      "SNR 19dB:\n",
      "2/2 - 0s - 11ms/step - accuracy: 1.0000 - loss: 4.0600e-06\n",
      "\n",
      "SNR 20dB:\n",
      "2/2 - 0s - 11ms/step - accuracy: 1.0000 - loss: 7.5783e-07\n"
     ]
    }
   ],
   "source": [
    "acc = []\n",
    "for snr in snrs:\n",
    "    idx_acc_snr = [i for i in range(len(test_idx)) if lbl[test_idx[i]][1] == snr]\n",
    "    acc_X_test = x_test[idx_acc_snr]\n",
    "    acc_Y_test = y_test[idx_acc_snr]\n",
    "    \n",
    "    print('\\nSNR ' + str(snr) + 'dB:')\n",
    "    accuracy_snr = model_cnn.evaluate(acc_X_test, acc_Y_test, batch_size=128, verbose=2)\n",
    "    acc.append(accuracy_snr)\n",
    "acc = np.vstack(acc)"
   ]
  },
  {
   "cell_type": "code",
   "execution_count": 57,
   "metadata": {},
   "outputs": [
    {
     "name": "stdout",
     "output_type": "stream",
     "text": [
      "[0.43274853 0.50270271 0.56329113 0.63432837 0.69230771 0.74675328\n",
      " 0.92307693 0.9357143  0.97986579 0.9921875  1.         1.\n",
      " 1.         1.         1.         1.         1.         1.\n",
      " 1.         1.         1.         1.         1.         1.\n",
      " 1.         1.        ]\n"
     ]
    }
   ],
   "source": [
    "print(acc[:, 1]) "
   ]
  },
  {
   "cell_type": "code",
   "execution_count": null,
   "metadata": {},
   "outputs": [],
   "source": []
  }
 ],
 "metadata": {
  "kernelspec": {
   "display_name": "haneol",
   "language": "python",
   "name": "python3"
  },
  "language_info": {
   "codemirror_mode": {
    "name": "ipython",
    "version": 3
   },
   "file_extension": ".py",
   "mimetype": "text/x-python",
   "name": "python",
   "nbconvert_exporter": "python",
   "pygments_lexer": "ipython3",
   "version": "3.12.4"
  }
 },
 "nbformat": 4,
 "nbformat_minor": 2
}
