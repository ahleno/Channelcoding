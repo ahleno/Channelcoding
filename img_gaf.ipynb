{
 "cells": [
  {
   "cell_type": "code",
   "execution_count": 10,
   "metadata": {},
   "outputs": [],
   "source": [
    "import seaborn as sns\n",
    "from tqdm import tqdm\n",
    "import pandas as pd\n",
    "import matplotlib.pyplot as plt\n",
    "import numpy as np\n",
    "import cv2\n",
    "import pickle\n",
    "from gaf import GramianAngularField\n",
    "\n",
    "np.random.seed(42)\n",
    "mods = ['BPSK']\n",
    "snrs = list(range(-20, 21, 2))\n",
    "\n",
    "\n",
    "def to_onehot(yy):\n",
    "    yy1 = np.zeros([len(yy), max(yy) + 1])\n",
    "    yy1[np.arange(len(yy)), yy] = 1\n",
    "    return yy1\n",
    "\n",
    "\n",
    "def generate_gaf(sin_data, image_size):\n",
    "    min_ = np.amin(sin_data)\n",
    "    max_ = np.amax(sin_data)\n",
    "    scaled_serie = (2 * sin_data - max_ - min_) / (max_ - min_)\n",
    "    gasf = GramianAngularField(image_size=image_size, method='summation',) #sample_range=(min_, max_)\n",
    "    sin_gasf = gasf.transform(scaled_serie)\n",
    "    gadf = GramianAngularField(image_size=image_size, method='difference',)\n",
    "    sin_gadf = gadf.transform(scaled_serie)\n",
    "    images = [sin_gasf[0], sin_gadf[0]]\n",
    "    return images"
   ]
  },
  {
   "cell_type": "code",
   "execution_count": 12,
   "metadata": {},
   "outputs": [
    {
     "name": "stderr",
     "output_type": "stream",
     "text": [
      "100%|██████████| 25200/25200 [00:10<00:00, 2489.00it/s]\n",
      "100%|██████████| 3150/3150 [00:01<00:00, 2488.71it/s]\n",
      "100%|██████████| 3150/3150 [00:01<00:00, 2501.33it/s]"
     ]
    },
    {
     "name": "stdout",
     "output_type": "stream",
     "text": [
      "GASF 이미지 생성 및 저장 완료\n"
     ]
    },
    {
     "name": "stderr",
     "output_type": "stream",
     "text": [
      "\n"
     ]
    }
   ],
   "source": [
    "base_dir = r\"C:\\Users\\USER-PC\\haneol\\DATASET_GAF\"\n",
    "\n",
    "x_train = np.load(base_dir + r\"\\x_train.npy\", allow_pickle=True)\n",
    "x_test = np.load(base_dir + r\"\\x_test.npy\", allow_pickle=True)\n",
    "x_val = np.load(base_dir + r\"\\x_val.npy\", allow_pickle=True)\n",
    "\n",
    "w, h = 128, 1\n",
    "x_train_imgs = []\n",
    "x_test_imgs = []\n",
    "x_val_imgs = []\n",
    "\n",
    "# x_train에 대한 GAF 이미지 생성\n",
    "for i in tqdm(range(x_train.shape[0])):\n",
    "    data = x_train[i, 0, :]  # 길이 128의 1차원 배열로 데이터 접근\n",
    "    data = data.reshape(1, -1)  # (1, 128)로 reshape\n",
    "    gaf_images = generate_gaf(data, 128)  # GAF 이미지 생성\n",
    "    resultant = cv2.resize(gaf_images[0], (w, h))  # 원하는 크기로 리사이즈\n",
    "    x_train_imgs.append(resultant)\n",
    "\n",
    "# x_train GASF 이미지 저장\n",
    "np.save(base_dir + r\"\\x_train_gasf.npy\", x_train_imgs)\n",
    "\n",
    "# x_test에 대한 GAF 이미지 생성\n",
    "for i in tqdm(range(x_test.shape[0])):\n",
    "    data = x_test[i, 0, :]  # 길이 128의 1차원 배열로 데이터 접근\n",
    "    data = data.reshape(1, -1)  # (1, 128)로 reshape\n",
    "    gaf_images = generate_gaf(data, 128)  # GAF 이미지 생성\n",
    "    resultant = cv2.resize(gaf_images[0], (w, h))  # 원하는 크기로 리사이즈\n",
    "    x_test_imgs.append(resultant)\n",
    "\n",
    "# x_test GASF 이미지 저장\n",
    "np.save(base_dir + r\"\\x_test_gasf.npy\", x_test_imgs)\n",
    "\n",
    "# x_val에 대한 GAF 이미지 생성\n",
    "for i in tqdm(range(x_val.shape[0])):\n",
    "    data = x_val[i, 0, :]  # 길이 128의 1차원 배열로 데이터 접근\n",
    "    data = data.reshape(1, -1)  # (1, 128)로 reshape\n",
    "    gaf_images = generate_gaf(data, 128)  # GAF 이미지 생성\n",
    "    resultant = cv2.resize(gaf_images[0], (w, h))  # 원하는 크기로 리사이즈\n",
    "    x_val_imgs.append(resultant)\n",
    "\n",
    "# x_val GASF 이미지 저장\n",
    "np.save(base_dir + r\"\\x_val_gasf.npy\", x_val_imgs)\n",
    "\n",
    "print(\"GASF 이미지 생성 및 저장 완료\")"
   ]
  },
  {
   "cell_type": "code",
   "execution_count": null,
   "metadata": {},
   "outputs": [],
   "source": []
  }
 ],
 "metadata": {
  "kernelspec": {
   "display_name": "pytorch",
   "language": "python",
   "name": "python3"
  },
  "language_info": {
   "codemirror_mode": {
    "name": "ipython",
    "version": 3
   },
   "file_extension": ".py",
   "mimetype": "text/x-python",
   "name": "python",
   "nbconvert_exporter": "python",
   "pygments_lexer": "ipython3",
   "version": "3.11.4"
  }
 },
 "nbformat": 4,
 "nbformat_minor": 2
}
